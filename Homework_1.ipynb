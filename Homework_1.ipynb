{
 "cells": [
  {
   "cell_type": "markdown",
   "metadata": {},
   "source": [
    "Machine Learning - Homework 1 (due Sep. 13)"
   ]
  },
  {
   "cell_type": "markdown",
   "metadata": {},
   "source": [
    "Problem 1: Legal reasoning (from Murphy 2.2).\n",
    "\n",
    "Suppose a crime has been committed. Blood is found at the scene for which there is no innocent explanation. It is of a type which is present in 1% of the population.  The defendant is known to have this rare blood type."
   ]
  },
  {
   "cell_type": "markdown",
   "metadata": {},
   "source": [
    "a. The prosecutor claims: “There is a 1% chance that the defendant would have the crime blood type if he\n",
    "were innocent. Thus there is a 99% chance that he guilty”. This is known as the prosecutor’s fallacy.\n",
    "What is wrong with this argument?"
   ]
  },
  {
   "cell_type": "markdown",
   "metadata": {},
   "source": [
    "______________________________\n",
    "$\\textbf{Answer}$\n",
    "\n",
    "If 1% of the population share the criminal's blood type, then even in a modest community of only 1000 people, chances are there would be 10 individuals with the suspect blood type. By the judge's logic, each of these 10 people has a 99% chance of guilt, which is of course impossible, because the sum of everybody's probability of guilt must add up precisely to 1. \n",
    "______________________________"
   ]
  },
  {
   "cell_type": "markdown",
   "metadata": {},
   "source": [
    "b. The defender claims: “The crime occurred in a city of 800,000 people. The blood type would be\n",
    "found in approximately 8000 people. The evidence has provided a probability of just 1 in 8000 that\n",
    "the defendant is guilty, and thus has no relevance.” This is known as the defender’s fallacy. What is\n",
    "wrong with this argument (HINT: What happens to the prior in this case if there is *other* evidence presented)?"
   ]
  },
  {
   "cell_type": "markdown",
   "metadata": {},
   "source": [
    "___\n",
    "$\\textbf{Answer}$\n",
    "\n",
    "By consulting Bayes' theorem, we can demonstrate that the likelihood of the defendant's guilt is not 1 in 8000, even absent some of the values necessary to precisely calculate the probability of guilt. In the following, $G$ is the event of the defendant's guilt, and $B$ is the event of the defendant's having the same blood type as the perpetrator.\n",
    "\n",
    "$$\n",
    "P(G=1|B=1) = \\frac{P(B=1|G=1)P(G=1)}{P(B=1)}\n",
    "$$\n",
    "\n",
    "The probability that the guilty party has the same blood type as, well, the guilty party, is 1 ( $P(B|G)=1$ ). \n",
    "\n",
    "The probabiliy of guilt is the reciprical of the number of possible guilty people, that being the number of people with the criminal's blood type ( $P(G=1)=\\frac{1}{8000}=0.000125$ ). \n",
    "\n",
    "The probability of having the criminal blood type is 1% ( $P(B=1)=0.01$ ).\n",
    "\n",
    "Therefore, having gathered all relevant probabilities, we can assess $P(G=1|B=1)$.\n",
    "\n",
    "$$\n",
    "P(G=1|B=1) = \\frac{(1)(0.000125)}{0.01} = 0.0125 \n",
    "$$\n",
    "\n",
    "This is much higher than the defender's claim of a 0.000125 probability of guilt. Though one could certainly argue that the equation fails to address a number of important variables that factor into the probability of guilt, it is still a much more rigorous and accurate method than that of the defender's.\n",
    "___"
   ]
  },
  {
   "cell_type": "markdown",
   "metadata": {},
   "source": [
    "c. Suppose that forensic analysis tells us that that the blood test has 98% sensitivity (true positive rate) and a 1% false positive rate.  Given the information presented in the above two questions, determine the posterior probability the the defendent is guilty, given that the defendent's blood type matches that found at the crime scene *and* that the defendent was one of only 5 people with access to the crime scene *and* that there is no other evidence.  "
   ]
  },
  {
   "cell_type": "markdown",
   "metadata": {},
   "source": [
    "___\n",
    "$\\textbf{Answer}$\n",
    "\n",
    "The probability can be calculated via Bayes' theorem:\n",
    "\n",
    "$$\n",
    "P(G=1|B=1) = \\frac{P(B=1|G=1)P(G=1)}{P(B=1)}\n",
    "$$\n",
    "\n",
    "$P(B=1|G=1)$ is the probability of a positive blood match if the defendant does in fact have the suspect blood type. This is precisely the definition of the test's sensitivity, so $P(B=1|G=1)=0.98$.\n",
    "\n",
    "$P(G=1)$ is the prior probability of guilt. Because the defandant is one of five possible offendors, $P(G=1)=\\frac{1}{5}$, or $0.20$.\n",
    "\n",
    "$P(B=1)$ is the overall probability of a positive result of the blood test. This is equal to the sum of the probabilities of a true positive and a false positive, or $P(B=1) = P(B=1|G=1)P(G=1) + P(B=1|G=0)P(G=0) = 0.98 * 0.20 + 0.01 * 0.80 = 0.204$, where $M$ is the event in which the blood is in fact a match for the target type.\n",
    "\n",
    "Having determined all relevant values, we can calculate the final value of Bayes' theorem:\n",
    "\n",
    "$$\n",
    "P(G=1|B=1) = \\frac{0.98 * 0.20}{0.204} = 0.9608\n",
    "$$\n",
    "___"
   ]
  },
  {
   "cell_type": "markdown",
   "metadata": {},
   "source": [
    "Problem 2: Naive Bayes."
   ]
  },
  {
   "cell_type": "markdown",
   "metadata": {},
   "source": [
    "One use of the naive Bayes classifier, which is still in practical use today, is as a spam filter.  Consider the corpus of text messages packaged with this homework, which are each labelled as either 'spam' or 'ham'.  In this case, naive Bayes utilizes a Bernoulli model that quantifies the probability of a given word given that the message is either spam or ham.  For example, investigating the text messages here, we find that the word *draw* shows up in spam 27 times, yet in ham only 5.  Thus, we have that\n",
    "$$ P(X=\\mathrm{draw}|Y=\\mathrm{ham}) = \\frac{5}{5+27}. $$\n",
    "\n",
    "While this is not particularly strong evidence on its own, we can create a powerful classifier by using the naive assumption in conjunction with all the words in a given message:\n",
    "$$ P(Y=\\mathrm{ham}|X=x) \\propto P(Y=\\mathrm{ham}) \\prod_{i=1}^n P(X_i=x_i|Y=\\mathrm{ham}), $$\n",
    "$$ P(Y=\\mathrm{spam}|X=x) \\propto P(Y=\\mathrm{spam}) \\prod_{i=1}^n P(X_i=x_i|Y=\\mathrm{spam}), $$\n",
    "where $x_i$ are the words in a given message. \n",
    "\n",
    "Your task is to write such a classifier.  I have taken the somewhat tedious step of parsing the data for you, yielding the variables *word_dictionary*, which contains the ham and spam counts for each word, as well as *training_labels*, which provides the spam/ham labels for each text message.  I have also parsed a set of test data: *test_messages* is a list, each entry containing another list of the words in the text message, as well as *test_labels* which contains the spam/ham label for each message."
   ]
  },
  {
   "cell_type": "code",
   "execution_count": 86,
   "metadata": {},
   "outputs": [],
   "source": [
    "import numpy as np\n",
    "\n",
    "# Maps from 'ham' or 'spam' strings to zero or one\n",
    "def mapper(s):\n",
    "    if s=='spam':\n",
    "        return 0\n",
    "    else:\n",
    "        return 1\n",
    "\n",
    "# Read in the text file\n",
    "f = open('SMSSpamCollection','r')\n",
    "lines = f.readlines()\n",
    "\n",
    "# Break out the test data\n",
    "test_lines = lines[:len(lines)//5]\n",
    "lines = lines[len(lines)//5:]\n",
    "\n",
    "# Instantiate the frequency dictionary and an array to\n",
    "# record whether the line is ham or spam\n",
    "word_dictionary = {}\n",
    "training_labels = np.zeros(len(lines),dtype=int)\n",
    "\n",
    "# Loop over all the training messages\n",
    "for i,l in enumerate(lines):\n",
    "    # Split into words\n",
    "    l = l.lower().split()\n",
    "    # Record the special first word which always ham or spam\n",
    "    if l[0]=='ham':\n",
    "        training_labels[i] = 1\n",
    "    # For each word in the message, record whether the message was ham or spam\n",
    "    for w in l[1:]:\n",
    "        # If we've never seen the word before, add a new dictionary entry\n",
    "        if w not in word_dictionary:\n",
    "            word_dictionary[w] = [1,1]\n",
    "        word_dictionary[w][mapper(l[0])] += 1\n",
    "        \n",
    "# Loop over the test messages\n",
    "test_labels = np.zeros(len(test_lines),dtype=int)\n",
    "test_messages = []\n",
    "for i,l in enumerate(test_lines):\n",
    "    l = l.lower().split()\n",
    "    if l[0]=='ham':\n",
    "        test_labels[i] = 1\n",
    "    test_messages.append(l)\n"
   ]
  },
  {
   "cell_type": "markdown",
   "metadata": {},
   "source": [
    "Below, I have provided code skeletons.  Your job is to make the code skeletons into an operational naive Bayes spam detector.  (you may discard these skeletons if you would prefer to code this from scratch).  Note that lines where you will need to change the code are marked with a '#!'.\n",
    "\n",
    "Your first task is train the model:  "
   ]
  },
  {
   "cell_type": "code",
   "execution_count": 87,
   "metadata": {},
   "outputs": [],
   "source": [
    "#What is the prior P(Y=ham) ?\n",
    "ham_prior = np.sum(training_labels) / len(training_labels)\n",
    "spam_prior = 1 - ham_prior\n",
    "\n",
    "# What are the class probabilities P(X=word|Y=ham) for each word?\n",
    "ham_likelihood = {}\n",
    "for key,val in word_dictionary.items():\n",
    "    ham_likelihood[key] = val[1] / (val[0] + val[1])"
   ]
  },
  {
   "cell_type": "markdown",
   "metadata": {},
   "source": [
    "Your next task is to make predictions on a set of test examples which were held back from the training procedure (see *test_messages* variable).  For each of these messages, compute the ham and spam probabilities."
   ]
  },
  {
   "cell_type": "code",
   "execution_count": 88,
   "metadata": {},
   "outputs": [],
   "source": [
    "# Where to hold the ham and spam posteriors\n",
    "posteriors = np.zeros((len(test_lines),2))\n",
    "\n",
    "\n",
    "# Loop over all the messages in the test set\n",
    "for i,m in enumerate(test_messages):\n",
    "    posterior_ham = ham_prior\n",
    "    posterior_spam = spam_prior\n",
    "    #! Don't forget to include the prior!\n",
    "    \n",
    "    # Loop over all the words in each message\n",
    "    for w in m:\n",
    "        if(w == \"ham\" or w == \"spam\"):\n",
    "            continue\n",
    "        # #! What is the purpose of this try/except handler?\n",
    "        # This is to prevent the script from throwing an error in the event that  \n",
    "        # we try to access a word in the 'ham_likelihood' dictionary that was not \n",
    "        # encountered in our training data.\n",
    "        try:\n",
    "            posterior_ham *= ham_likelihood[w]\n",
    "            posterior_spam *= (1.0-ham_likelihood[w]) #!\n",
    "        except KeyError:\n",
    "            pass\n",
    "    \n",
    "    # Notice the normalization factor (denominator) \n",
    "    # to turn these into proper probabilities!\n",
    "    posteriors[i,0] = posterior_spam/(posterior_spam + posterior_ham)\n",
    "    posteriors[i,1] = posterior_ham/(posterior_spam + posterior_ham)"
   ]
  },
  {
   "cell_type": "markdown",
   "metadata": {},
   "source": [
    "Finally, make a ham/spam prediction based on your posterior probabilities.  Compare these to the labels contained in test_labels.  Report the accuracy of your classifier as percentage correct."
   ]
  },
  {
   "cell_type": "code",
   "execution_count": 89,
   "metadata": {},
   "outputs": [
    {
     "name": "stdout",
     "output_type": "stream",
     "text": [
      "Messages were correctly classified 93.81% of the time!\n"
     ]
    }
   ],
   "source": [
    "correct = 0\n",
    "total = 0\n",
    "\n",
    "for i,m in enumerate(test_messages):\n",
    "    actual_class = mapper(m[0])\n",
    "    predicted_class = np.argmax(posteriors[i])\n",
    "    \n",
    "    if(actual_class == predicted_class):\n",
    "        correct += 1\n",
    "    \n",
    "    total += 1\n",
    "    \n",
    "print(\"Messages were correctly classified %.2f%% of the time!\" % (correct/total*100))\n",
    "\n",
    "    "
   ]
  }
 ],
 "metadata": {
  "kernelspec": {
   "display_name": "Python 3",
   "language": "python",
   "name": "python3"
  },
  "language_info": {
   "codemirror_mode": {
    "name": "ipython",
    "version": 3
   },
   "file_extension": ".py",
   "mimetype": "text/x-python",
   "name": "python",
   "nbconvert_exporter": "python",
   "pygments_lexer": "ipython3",
   "version": "3.7.0"
  }
 },
 "nbformat": 4,
 "nbformat_minor": 2
}
