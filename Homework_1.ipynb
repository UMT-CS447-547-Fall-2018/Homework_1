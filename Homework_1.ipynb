{
 "cells": [
  {
   "cell_type": "markdown",
   "metadata": {},
   "source": [
    "Machine Learning - Homework 1 (due Sep. 13)"
   ]
  },
  {
   "cell_type": "markdown",
   "metadata": {},
   "source": [
    "Problem 1: Legal reasoning (from Murphy 2.2).\n",
    "\n",
    "Suppose a crime has been committed. Blood is found at the scene for which there is no innocent explanation. It is of a type which is present in 1% of the population.  The defendant is known to have this rare blood type."
   ]
  },
  {
   "cell_type": "markdown",
   "metadata": {},
   "source": [
    "a. The prosecutor claims: “There is a 1% chance that the defendant would have the crime blood type if he\n",
    "were innocent. Thus there is a 99% chance that he guilty”. This is known as the prosecutor’s fallacy.\n",
    "What is wrong with this argument?"
   ]
  },
  {
   "cell_type": "markdown",
   "metadata": {},
   "source": [
    "$\\textbf{Answer}$\n",
    "\n",
    "Say V is the event that the defendent is guilty (1) or innocent (0), and that E is the event that the defendent has the blood type (1) or not (0). Prosecutor's fallacy falsely claims that $P(E|V) = P(V|E)$. When actually, $P(E|V) = \\frac{P(V|E)P(E)}{P(V)}$. In other words, the fallacy ignores the probability of the defendent being guilty independent of the blood evidence, $P(V)$, and the probability of having the rare blood type independent of the verdict, $P(E)$. The former being an issue because it ignores all other evidence, while the latter is important to consider the magnitude having the rare blood at all compared to having the rare blood only if guilty."
   ]
  },
  {
   "cell_type": "markdown",
   "metadata": {},
   "source": [
    "b. The defender claims: “The crime occurred in a city of 800,000 people. The blood type would be\n",
    "found in approximately 8000 people. The evidence has provided a probability of just 1 in 8000 that\n",
    "the defendant is guilty, and thus has no relevance.” This is known as the defender’s fallacy. What is\n",
    "wrong with this argument (HINT: What happens to the prior in this case if there is *other* evidence presented)?"
   ]
  },
  {
   "cell_type": "markdown",
   "metadata": {},
   "source": [
    "$\\textbf{Answer}$\n",
    "\n",
    "If there is an established $P(V=1)$ from the other evidence, presumably the evidence has already influenced $P(V=1)$ (possibly very far) away from the notion that $\\textit{anyone}$ in the city is guilty. The probability of an unlikely event matching one suspect is highly relevant when talking about a subset of the people in the city rather than the whole group at large, since it is less likely for a random group of 10, for example, to have someone who happens to have the blood type. Regardless, even with no prior evidence the blood test would still be \"relevant\" because it would narrow the prior from 1/800000 to 1/8000."
   ]
  },
  {
   "cell_type": "markdown",
   "metadata": {},
   "source": [
    "c. Suppose that forensic analysis tells us that that the blood test has 98% sensitivity (true positive rate) and a 1% false positive rate.  Given the information presented in the above two questions, determine the posterior probability the the defendent is guilty, given that the defendent's blood type matches that found at the crime scene *and* that the defendent was one of only 5 people with access to the crime scene *and* that there is no other evidence.  "
   ]
  },
  {
   "cell_type": "markdown",
   "metadata": {},
   "source": [
    "$\\textbf{Answer}$\n",
    "\n",
    "V is the event the defendent is guilty.\n",
    "E is the event the defendent has the blood type.\n",
    "T is the event the defendent has a positive blood test.\n",
    "\n",
    "Given statistics:\n",
    "$\\hspace{5mm}P(V)=0.2\\hspace{10mm}P(E)=0.01\\hspace{10mm}P(T|E)=0.98\\hspace{10mm}P(T|!E)=0.01$\n",
    "\n",
    "Bayes' Theorem:\n",
    "$\\hspace{5mm}P(V|T) = \\frac{P(T|V)P(V)}{P(T)}$\n",
    "\n",
    "We can marginalize the denominator for all positive test result possibilities (if the person is guilty or innocent).\n",
    "\n",
    "$P(V|T) = \\frac{(P(T|V)P(V)}{P(T|V)P(V)+P(T|!V)P(!V)}$\n",
    "\n",
    "We're told that the person that is guilty and the defendent are guaranteed to have the same blood type so $P(T|V)=P(T|E)=0.98$ and similarly $P(T|!V)=P(T|!E)=0.01$. Substituting values:\n",
    "\n",
    "$P(V|T) = \\frac{(0.98)(0.2)}{(0.98)(0.2)+(0.01)(0.8)}\\approx0.961$"
   ]
  },
  {
   "cell_type": "markdown",
   "metadata": {},
   "source": [
    "Problem 2: Naive Bayes."
   ]
  },
  {
   "cell_type": "markdown",
   "metadata": {},
   "source": [
    "One use of the naive Bayes classifier, which is still in practical use today, is as a spam filter.  Consider the corpus of text messages packaged with this homework, which are each labelled as either 'spam' or 'ham'.  In this case, naive Bayes utilizes a Bernoulli model that quantifies the probability of a given word given that the message is either spam or ham.  For example, investigating the text messages here, we find that the word *draw* shows up in spam 27 times, yet in ham only 5.  Thus, we have that\n",
    "$$ P(X=\\mathrm{draw}|Y=\\mathrm{ham}) = \\frac{5}{5+27}. $$\n",
    "\n",
    "While this is not particularly strong evidence on its own, we can create a powerful classifier by using the naive assumption in conjunction with all the words in a given message:\n",
    "$$ P(Y=\\mathrm{ham}|X=x) \\propto P(Y=\\mathrm{ham}) \\prod_{i=1}^n P(X_i=x_i|Y=\\mathrm{ham}), $$\n",
    "$$ P(Y=\\mathrm{spam}|X=x) \\propto P(Y=\\mathrm{spam}) \\prod_{i=1}^n P(X_i=x_i|Y=\\mathrm{spam}), $$\n",
    "where $x_i$ are the words in a given message. \n",
    "\n",
    "Your task is to write such a classifier.  I have taken the somewhat tedious step of parsing the data for you, yielding the variables *word_dictionary*, which contains the ham and spam counts for each word, as well as *training_labels*, which provides the spam/ham labels for each text message.  I have also parsed a set of test data: *test_messages* is a list, each entry containing another list of the words in the text message, as well as *test_labels* which contains the spam/ham label for each message."
   ]
  },
  {
   "cell_type": "code",
   "execution_count": 24,
   "metadata": {},
   "outputs": [],
   "source": [
    "import numpy as np\n",
    "\n",
    "# Maps from 'ham' or 'spam' strings to zero or one\n",
    "def mapper(s):\n",
    "    if s=='spam':\n",
    "        return 0\n",
    "    else:\n",
    "        return 1\n",
    "\n",
    "# Read in the text file\n",
    "f = open('SMSSpamCollection','r')\n",
    "lines = f.readlines()\n",
    "\n",
    "# Break out the test data\n",
    "test_lines = lines[:len(lines)//5]\n",
    "lines = lines[len(lines)//5:]\n",
    "\n",
    "# Instantiate the frequency dictionary and an array to\n",
    "# record whether the line is ham or spam\n",
    "word_dictionary = {}\n",
    "training_labels = np.zeros(len(lines),dtype=int)\n",
    "\n",
    "# Loop over all the training messages\n",
    "for i,l in enumerate(lines):\n",
    "    # Split into words\n",
    "    l = l.lower().split()\n",
    "    # Record the special first word which always ham or spam\n",
    "    if l[0]=='ham':\n",
    "        training_labels[i] = 1\n",
    "    # For each word in the message, record whether the message was ham or spam\n",
    "    for w in l[1:]:\n",
    "        # If we've never seen the word before, add a new dictionary entry\n",
    "        if w not in word_dictionary:\n",
    "            word_dictionary[w] = [1,1]\n",
    "        word_dictionary[w][mapper(l[0])] += 1\n",
    "        \n",
    "# Loop over the test messages\n",
    "test_labels = np.zeros(len(test_lines),dtype=int)\n",
    "test_messages = []\n",
    "for i,l in enumerate(test_lines):\n",
    "    l = l.lower().split()\n",
    "    if l[0]=='ham':\n",
    "        test_labels[i] = 1\n",
    "    test_messages.append(l)"
   ]
  },
  {
   "cell_type": "markdown",
   "metadata": {},
   "source": [
    "Below, I have provided code skeletons.  Your job is to make the code skeletons into an operational naive Bayes spam detector.  (you may discard these skeletons if you would prefer to code this from scratch).  Note that lines where you will need to change the code are marked with a '#!'.\n",
    "\n",
    "Your first task is train the model:  "
   ]
  },
  {
   "cell_type": "code",
   "execution_count": 78,
   "metadata": {
    "scrolled": true
   },
   "outputs": [
    {
     "name": "stdout",
     "output_type": "stream",
     "text": [
      "ham_prior: 0.8701793721973095 \n",
      "\n"
     ]
    },
    {
     "data": {
      "text/plain": [
       "{'no': 0.875,\n",
       " \"i'm\": 0.980327868852459,\n",
       " 'good': 0.9272727272727272,\n",
       " 'for': 0.7145454545454546,\n",
       " 'the': 0.8442545109211775,\n",
       " 'movie,': 0.6666666666666666,\n",
       " 'is': 0.8236130867709816,\n",
       " 'it': 0.9447368421052632,\n",
       " 'ok': 0.9621212121212122,\n",
       " 'if': 0.9169329073482428}"
      ]
     },
     "execution_count": 78,
     "metadata": {},
     "output_type": "execute_result"
    }
   ],
   "source": [
    "#What is the prior P(Y=ham) ?\n",
    "ham_prior = np.sum(training_labels)/len(training_labels) #!\n",
    "\n",
    "print('ham_prior:', ham_prior, '\\n')\n",
    "\n",
    "# What are the class probabilities P(X=word|Y=ham) for each word?\n",
    "ham_likelihood = {}\n",
    "for key,val in word_dictionary.items():\n",
    "    total_of_key = val[0]+val[1]\n",
    "    ham_count = val[1]\n",
    "    ham_likelihood[key] = ham_count/total_of_key #!\n",
    "    \n",
    "# Example of ham likelihoods\n",
    "import itertools\n",
    "dict(itertools.islice(ham_likelihood.items(), 10))"
   ]
  },
  {
   "cell_type": "markdown",
   "metadata": {},
   "source": [
    "Your next task is to make predictions on a set of test examples which were held back from the training procedure (see *test_messages* variable).  For each of these messages, compute the ham and spam probabilities."
   ]
  },
  {
   "cell_type": "code",
   "execution_count": 80,
   "metadata": {},
   "outputs": [
    {
     "name": "stdout",
     "output_type": "stream",
     "text": [
      "[1.26095525e-14 1.00000000e+00]\n",
      "[2.65423069e-07 9.99999735e-01]\n",
      "[9.99999996e-01 3.80127070e-09]\n",
      "[1.90853281e-13 1.00000000e+00]\n",
      "[4.51555027e-17 1.00000000e+00]\n",
      "[3.06572028e-14 1.00000000e+00]\n",
      "[9.74875935e-15 1.00000000e+00]\n",
      "[3.1763994e-11 1.0000000e+00]\n",
      "[1.00000000e+00 1.42682097e-10]\n",
      "[9.99478517e-01 5.21483203e-04]\n"
     ]
    }
   ],
   "source": [
    "# Where to hold the ham and spam posteriors\n",
    "posteriors = np.zeros((len(test_lines),2))\n",
    "\n",
    "# Loop over all the messages in the test set\n",
    "for i,m in enumerate(test_messages):\n",
    "    posterior_ham = ham_prior \n",
    "    posterior_spam = 1-ham_prior\n",
    "    # Loop over all the words in each message\n",
    "    for w in m:\n",
    "        #! What is the purpose of this try/except handler?\n",
    "        # Skip words not in the training set \n",
    "        try:\n",
    "            posterior_ham *=  ham_likelihood[w] #!\n",
    "            posterior_spam *= (1-ham_likelihood[w]) #!\n",
    "        except KeyError:\n",
    "            pass\n",
    "    \n",
    "    # Notice the normalization factor (denominator) \n",
    "    # to turn these into proper probabilities!\n",
    "    posteriors[i,0] = posterior_spam/(posterior_spam + posterior_ham)\n",
    "    posteriors[i,1] = posterior_ham/(posterior_spam + posterior_ham)\n",
    "    \n",
    "for i in range(10):\n",
    "    print(posteriors[i])"
   ]
  },
  {
   "cell_type": "markdown",
   "metadata": {},
   "source": [
    "Finally, make a ham/spam prediction based on your posterior probabilities.  Compare these to the labels contained in test_labels.  Report the accuracy of your classifier as percentage correct."
   ]
  },
  {
   "cell_type": "code",
   "execution_count": 96,
   "metadata": {},
   "outputs": [
    {
     "name": "stdout",
     "output_type": "stream",
     "text": [
      "Misses (unadjusted):\n",
      "\n",
      "[3.06572028e-14 1.00000000e+00] 1 0\n",
      "[8.30587439e-04 9.99169413e-01] 1 0\n",
      "[7.80450246e-08 9.99999922e-01] 1 0\n",
      "[1.68862415e-04 9.99831138e-01] 1 0\n",
      "[0.0081965 0.9918035] 1 0\n",
      "[0.00178986 0.99821014] 1 0\n",
      "[5.2054439e-11 1.0000000e+00] 1 0\n",
      "[0.0200103 0.9799897] 1 0\n",
      "[0.06466959 0.93533041] 1 0\n",
      "[4.15102231e-10 1.00000000e+00] 1 0\n",
      "[1.96098834e-08 9.99999980e-01] 1 0\n",
      "[0.01287569 0.98712431] 1 0\n",
      "[0.15160328 0.84839672] 1 0\n",
      "[3.57444924e-10 1.00000000e+00] 1 0\n",
      "[3.28158952e-04 9.99671841e-01] 1 0\n",
      "[1.49471858e-08 9.99999985e-01] 1 0\n",
      "[3.20137769e-07 9.99999680e-01] 1 0\n",
      "[4.27333421e-05 9.99957267e-01] 1 0\n",
      "[1.22176054e-07 9.99999878e-01] 1 0\n",
      "[0.13347107 0.86652893] 1 0\n",
      "[0.07056739 0.92943261] 1 0\n",
      "[1.07927192e-06 9.99998921e-01] 1 0\n",
      "[0.00131259 0.99868741] 1 0\n",
      "[0.3698391 0.6301609] 1 0\n",
      "[3.34615217e-05 9.99966538e-01] 1 0\n",
      "[0.38552176 0.61447824] 1 0\n",
      "[0.00104708 0.99895292] 1 0\n",
      "[0.19916813 0.80083187] 1 0\n",
      "[3.92021212e-07 9.99999608e-01] 1 0\n",
      "[0.01307148 0.98692852] 1 0\n",
      "[0.0081965 0.9918035] 1 0\n",
      "[4.95397449e-06 9.99995046e-01] 1 0\n",
      "[1.06026012e-04 9.99893974e-01] 1 0\n",
      "[1.29705000e-04 9.99870295e-01] 1 0\n",
      "[9.95389896e-05 9.99900461e-01] 1 0\n",
      "[1.56928632e-08 9.99999984e-01] 1 0\n",
      "[0.00121627 0.99878373] 1 0\n",
      "[0.05018431 0.94981569] 1 0\n",
      "[1.83862735e-05 9.99981614e-01] 1 0\n",
      "[7.07916279e-21 1.00000000e+00] 1 0\n",
      "[2.72398038e-04 9.99727602e-01] 1 0\n",
      "[4.57609316e-04 9.99542391e-01] 1 0\n",
      "[5.63715606e-04 9.99436284e-01] 1 0\n",
      "[2.12879805e-04 9.99787120e-01] 1 0\n",
      "[1.17465629e-13 1.00000000e+00] 1 0\n",
      "[0.06855476 0.93144524] 1 0\n",
      "[0.00516554 0.99483446] 1 0\n",
      "[6.6461173e-12 1.0000000e+00] 1 0\n",
      "[9.32208653e-05 9.99906779e-01] 1 0\n",
      "[0.01586441 0.98413559] 1 0\n",
      "[7.39397854e-12 1.00000000e+00] 1 0\n",
      "[5.48805832e-18 1.00000000e+00] 1 0\n",
      "[4.11902582e-06 9.99995881e-01] 1 0\n",
      "[2.13671276e-05 9.99978633e-01] 1 0\n",
      "[1.06836779e-05 9.99989316e-01] 1 0\n",
      "[4.53001568e-07 9.99999547e-01] 1 0\n",
      "[0.0200103 0.9799897] 1 0\n",
      "[0.03749305 0.96250695] 1 0\n",
      "[0.00113068 0.99886932] 1 0\n",
      "[1.80656634e-11 1.00000000e+00] 1 0\n",
      "[0.00509817 0.99490183] 1 0\n",
      "[2.98881370e-06 9.99997011e-01] 1 0\n",
      "[2.20064956e-06 9.99997799e-01] 1 0\n",
      "[4.70840596e-04 9.99529159e-01] 1 0\n",
      "[2.84474268e-06 9.99997155e-01] 1 0\n",
      "[0.01388554 0.98611446] 1 0\n",
      "[4.27742872e-04 9.99572257e-01] 1 0\n",
      "[1.01772412e-04 9.99898228e-01] 1 0\n",
      "\n",
      "\n",
      "Accuracy (unadjusted): 93.896%\n"
     ]
    }
   ],
   "source": [
    "correct = 0\n",
    "\n",
    "# Prediction using classifier is strictly on which posterior probability it thinks is higher: spam or ham\n",
    "print('Misses (unadjusted):\\n')\n",
    "for i in range(len(test_labels)):\n",
    "    predict = 2\n",
    "    if posteriors[i,0] > posteriors[i,1]:\n",
    "        predict = 0\n",
    "    else:\n",
    "        predict = 1\n",
    "    if test_labels[i] == predict:\n",
    "        correct += 1\n",
    "    else:\n",
    "        print(posteriors[i], predict, test_labels[i])\n",
    "print('\\n')\n",
    "\n",
    "print('Accuracy (unadjusted): %.3f%%' % (correct/len(test_labels)*100))"
   ]
  },
  {
   "cell_type": "code",
   "execution_count": 102,
   "metadata": {},
   "outputs": [
    {
     "name": "stdout",
     "output_type": "stream",
     "text": [
      "Misses (adjusted):\n",
      "\n",
      "[3.06572028e-14 1.00000000e+00] 1 0\n",
      "[8.30587439e-04 9.99169413e-01] 1 0\n",
      "[7.80450246e-08 9.99999922e-01] 1 0\n",
      "[1.68862415e-04 9.99831138e-01] 1 0\n",
      "[0.0081965 0.9918035] 1 0\n",
      "[0.00178986 0.99821014] 1 0\n",
      "[5.2054439e-11 1.0000000e+00] 1 0\n",
      "[4.15102231e-10 1.00000000e+00] 1 0\n",
      "[1.96098834e-08 9.99999980e-01] 1 0\n",
      "[3.57444924e-10 1.00000000e+00] 1 0\n",
      "[3.28158952e-04 9.99671841e-01] 1 0\n",
      "[1.49471858e-08 9.99999985e-01] 1 0\n",
      "[3.20137769e-07 9.99999680e-01] 1 0\n",
      "[4.27333421e-05 9.99957267e-01] 1 0\n",
      "[1.22176054e-07 9.99999878e-01] 1 0\n",
      "[0.0122797 0.9877203] 0 1\n",
      "[0.01830714 0.98169286] 0 1\n",
      "[1.07927192e-06 9.99998921e-01] 1 0\n",
      "[0.00131259 0.99868741] 1 0\n",
      "[0.04737359 0.95262641] 0 1\n",
      "[3.34615217e-05 9.99966538e-01] 1 0\n",
      "[0.00104708 0.99895292] 1 0\n",
      "[0.01830714 0.98169286] 0 1\n",
      "[3.92021212e-07 9.99999608e-01] 1 0\n",
      "[0.06941614 0.93058386] 0 1\n",
      "[0.01830714 0.98169286] 0 1\n",
      "[0.0081965 0.9918035] 1 0\n",
      "[4.95397449e-06 9.99995046e-01] 1 0\n",
      "[1.06026012e-04 9.99893974e-01] 1 0\n",
      "[1.29705000e-04 9.99870295e-01] 1 0\n",
      "[9.95389896e-05 9.99900461e-01] 1 0\n",
      "[1.56928632e-08 9.99999984e-01] 1 0\n",
      "[0.00121627 0.99878373] 1 0\n",
      "[1.83862735e-05 9.99981614e-01] 1 0\n",
      "[7.07916279e-21 1.00000000e+00] 1 0\n",
      "[2.72398038e-04 9.99727602e-01] 1 0\n",
      "[4.57609316e-04 9.99542391e-01] 1 0\n",
      "[5.63715606e-04 9.99436284e-01] 1 0\n",
      "[2.12879805e-04 9.99787120e-01] 1 0\n",
      "[1.17465629e-13 1.00000000e+00] 1 0\n",
      "[0.00516554 0.99483446] 1 0\n",
      "[0.06941614 0.93058386] 0 1\n",
      "[6.6461173e-12 1.0000000e+00] 1 0\n",
      "[9.32208653e-05 9.99906779e-01] 1 0\n",
      "[7.39397854e-12 1.00000000e+00] 1 0\n",
      "[5.48805832e-18 1.00000000e+00] 1 0\n",
      "[4.11902582e-06 9.99995881e-01] 1 0\n",
      "[2.13671276e-05 9.99978633e-01] 1 0\n",
      "[1.06836779e-05 9.99989316e-01] 1 0\n",
      "[4.53001568e-07 9.99999547e-01] 1 0\n",
      "[0.06941614 0.93058386] 0 1\n",
      "[0.01121527 0.98878473] 0 1\n",
      "[0.01121527 0.98878473] 0 1\n",
      "[0.00113068 0.99886932] 1 0\n",
      "[1.80656634e-11 1.00000000e+00] 1 0\n",
      "[0.00509817 0.99490183] 1 0\n",
      "[0.02656556 0.97343444] 0 1\n",
      "[2.98881370e-06 9.99997011e-01] 1 0\n",
      "[2.20064956e-06 9.99997799e-01] 1 0\n",
      "[4.70840596e-04 9.99529159e-01] 1 0\n",
      "[2.84474268e-06 9.99997155e-01] 1 0\n",
      "[0.06941614 0.93058386] 0 1\n",
      "[4.27742872e-04 9.99572257e-01] 1 0\n",
      "[1.01772412e-04 9.99898228e-01] 1 0\n",
      "\n",
      "\n",
      "Accuracy (unadjusted): 94.255%\n"
     ]
    }
   ],
   "source": [
    "# Notice after printing, that all of the classifier error are predictions that the message is ham when it is actually spam.\n",
    "# Perhaps we can improve accuracy if we only accept that the message is ham when we have a threshold of probability.\n",
    "\n",
    "correct2 = 0\n",
    "THRESHOLD = 0.99\n",
    "\n",
    "print('Misses (adjusted):\\n')\n",
    "for i in range(len(test_labels)):\n",
    "    predict = 2\n",
    "    if posteriors[i,0] > posteriors[i,1] or posteriors[i,1]<THRESHOLD:\n",
    "        predict = 0\n",
    "    else:\n",
    "        predict = 1\n",
    "    if test_labels[i] == predict:\n",
    "        correct2 += 1\n",
    "    else:\n",
    "        print(posteriors[i], predict, test_labels[i])\n",
    "print('\\n')\n",
    "\n",
    "print('Accuracy (adjusted): %.3f%%' % (correct2/len(test_labels)*100))\n",
    "# Notice however that this marks much more messages that were ham as spam though, so this isn't likely to be as desirable."
   ]
  },
  {
   "cell_type": "code",
   "execution_count": null,
   "metadata": {},
   "outputs": [],
   "source": []
  }
 ],
 "metadata": {
  "kernelspec": {
   "display_name": "Python 3",
   "language": "python",
   "name": "python3"
  },
  "language_info": {
   "codemirror_mode": {
    "name": "ipython",
    "version": 3
   },
   "file_extension": ".py",
   "mimetype": "text/x-python",
   "name": "python",
   "nbconvert_exporter": "python",
   "pygments_lexer": "ipython3",
   "version": "3.6.5"
  }
 },
 "nbformat": 4,
 "nbformat_minor": 2
}
