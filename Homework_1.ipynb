{
 "cells": [
  {
   "cell_type": "markdown",
   "metadata": {},
   "source": [
    "Machine Learning - Homework 1 (due Sep. 13)"
   ]
  },
  {
   "cell_type": "markdown",
   "metadata": {},
   "source": [
    "Problem 1: Legal reasoning (from Murphy 2.2).\n",
    "\n",
    "Suppose a crime has been committed. Blood is found at the scene for which there is no innocent explanation. It is of a type which is present in 1% of the population.  The defendant is known to have this rare blood type."
   ]
  },
  {
   "cell_type": "markdown",
   "metadata": {},
   "source": [
    "a. The prosecutor claims: “There is a 1% chance that the defendant would have the crime blood type if he\n",
    "were innocent. Thus there is a 99% chance that he guilty”. This is known as the prosecutor’s fallacy.\n",
    "What is wrong with this argument?"
   ]
  },
  {
   "cell_type": "markdown",
   "metadata": {},
   "source": [
    "##### Short Answer:\n",
    "\n",
    "$P(I|B)$ != $P(B|I)$\n",
    "\n",
    "###### Long Answer:\n",
    "\n",
    "By this line of reasoning, anyone with the crime blood type could also be argued to have a 99% chance of being guilty.And presumably there is a single(or a few) person that commited the crime and therefore it is nonsensical to argue that everyone with this blood type is extremely likely to have comitted the crime (This would violate the law of total Probability). \n",
    "\n",
    "Furthermore, it is a fallacy to conclude that P(B|I) equals P(I|B) becuase you are ignoring both the prior and the evidence term of Bayes' Rule which allows you to 'invert' conditional probabilities. This ratio of prior to evidence determines how much a naive invert of conditional probabilities would be off. In our example P(I)/P(B) is near 100 and when multiplied by the likelihood of .01 we get an almost 1.00 probability of innocence given blood type. This is modeling as if a random person is pulled from the city and is awaiting trial(we are using an uninformitative prior)."
   ]
  },
  {
   "cell_type": "markdown",
   "metadata": {},
   "source": [
    "b. The defender claims: “The crime occurred in a city of 800,000 people. The blood type would be\n",
    "found in approximately 8000 people. The evidence has provided a probability of just 1 in 8000 that\n",
    "the defendant is guilty, and thus has no relevance.” This is known as the defender’s fallacy. What is\n",
    "wrong with this argument (HINT: What happens to the prior in this case if there is *other* evidence presented)?"
   ]
  },
  {
   "cell_type": "markdown",
   "metadata": {},
   "source": [
    "##### Short Answer:\n",
    "\n",
    "This is neglecting all prior evidence for the suspect and assuming anyone in the subset of 8000 is equally likely to be innocent. And it assumes police were pulling out of the 8000 people subpopulation (as if they know who has the blood type and who doesn't) at random and therefore, one in 8000 of the people would be guilty. However, when combined with additional evidence the $\\frac{1}{8000}$ will be transformed(multiplied by the prior) to represent our updated belief in guilt and therefore is very much relevant to determine the guilt of the criminal. "
   ]
  },
  {
   "cell_type": "markdown",
   "metadata": {},
   "source": [
    "c. Suppose that forensic analysis tells us that that the blood test has 98% sensitivity (true positive rate) and a 1% false positive rate.  Given the information presented in the above two questions, determine the posterior probability the the defendent is guilty, given that the defendent's blood type matches that found at the crime scene *and* that the defendent was one of only 5 people with access to the crime scene *and* that there is no other evidence.  "
   ]
  },
  {
   "cell_type": "markdown",
   "metadata": {},
   "source": [
    "#### Answer:\n",
    "##### $0.96$ or $96$% of guilt given evidence\n",
    "\n",
    "###### Bayes:\n",
    "$P(G|+) = \\frac{P(+|G)P(G)}{P(+)}  =  0.96$\n",
    "\n",
    "###### Term breakdown:\n",
    "\n",
    "$P(+)$ is the $P$ of testing positive for the specific blood type. $0.204$\n",
    "\n",
    "$P(G)$ is the prior probability/belief of guilt.  $0.2$\n",
    "\n",
    "$P(+|G)$ is the $P$ of testing positive given guilty. $0.98$\n",
    "\n",
    "###### Sum rule for $P(+)$:\n",
    "\n",
    "$P(+) = P(+|G)P(G) + P(+|I)P(I)$\n",
    "\n",
    "$P(+) = 0.98*0.2  +  0.01*0.8  =  0.204 $\n"
   ]
  },
  {
   "cell_type": "markdown",
   "metadata": {},
   "source": [
    "Problem 2: Naive Bayes."
   ]
  },
  {
   "cell_type": "markdown",
   "metadata": {},
   "source": [
    "One use of the naive Bayes classifier, which is still in practical use today, is as a spam filter.  Consider the corpus of text messages packaged with this homework, which are each labelled as either 'spam' or 'ham'.  In this case, naive Bayes utilizes a Bernoulli model that quantifies the probability of a given word given that the message is either spam or ham.  For example, investigating the text messages here, we find that the word *draw* shows up in spam 27 times, yet in ham only 5.  Thus, we have that\n",
    "$$ P(X=\\mathrm{draw}|Y=\\mathrm{ham}) = \\frac{5}{5+27}. $$\n",
    "\n",
    "While this is not particularly strong evidence on its own, we can create a powerful classifier by using the naive assumption in conjunction with all the words in a given message:\n",
    "$$ P(Y=\\mathrm{ham}|X=x) \\propto P(Y=\\mathrm{ham}) \\prod_{i=1}^n P(X_i=x_i|Y=\\mathrm{ham}), $$\n",
    "$$ P(Y=\\mathrm{spam}|X=x) \\propto P(Y=\\mathrm{spam}) \\prod_{i=1}^n P(X_i=x_i|Y=\\mathrm{spam}), $$\n",
    "where $x_i$ are the words in a given message. \n",
    "\n",
    "Your task is to write such a classifier.  I have taken the somewhat tedious step of parsing the data for you, yielding the variables *word_dictionary*, which contains the ham and spam counts for each word, as well as *training_labels*, which provides the spam/ham labels for each text message.  I have also parsed a set of test data: *test_messages* is a list, each entry containing another list of the words in the text message, as well as *test_labels* which contains the spam/ham label for each message."
   ]
  },
  {
   "cell_type": "code",
   "execution_count": 9,
   "metadata": {},
   "outputs": [],
   "source": [
    "import numpy as np\n",
    "import matplotlib.pyplot as plt\n",
    "\n",
    "# Maps from 'ham' or 'spam' strings to zero or one\n",
    "def mapper(s):\n",
    "    if s=='spam':\n",
    "        return 0\n",
    "    else:\n",
    "        return 1\n",
    "\n",
    "# Read in the text file\n",
    "f = open('SMSSpamCollection','r')\n",
    "lines = f.readlines()\n",
    "\n",
    "# Break out the test data\n",
    "test_lines = lines[:len(lines)//5]\n",
    "lines = lines[len(lines)//5:]\n",
    "\n",
    "# Instantiate the frequency dictionary and an array to\n",
    "# record whether the line is ham or spam\n",
    "word_dictionary = {}\n",
    "training_labels = np.zeros(len(lines),dtype=int)\n",
    "\n",
    "# Loop over all the training messages\n",
    "for i,l in enumerate(lines):\n",
    "    # Split into words\n",
    "    l = l.lower().split()\n",
    "    # Record the special first word which always ham or spam\n",
    "    if l[0]=='ham':\n",
    "        training_labels[i] = 1\n",
    "    # For each word in the message, record whether the message was ham or spam\n",
    "    for w in l[1:]:\n",
    "        # If we've never seen the word before, add a new dictionary entry\n",
    "        if w not in word_dictionary:\n",
    "            word_dictionary[w] = [1,1]\n",
    "        word_dictionary[w][mapper(l[0])] += 1\n",
    "        \n",
    "# Loop over the test messages\n",
    "test_labels = np.zeros(len(test_lines),dtype=int)\n",
    "test_messages = []\n",
    "for i,l in enumerate(test_lines):\n",
    "    l = l.lower().split()\n",
    "    if l[0]=='ham':\n",
    "        test_labels[i] = 1\n",
    "    test_messages.append(l)"
   ]
  },
  {
   "cell_type": "markdown",
   "metadata": {},
   "source": [
    "Below, I have provided code skeletons.  Your job is to make the code skeletons into an operational naive Bayes spam detector.  (you may discard these skeletons if you would prefer to code this from scratch).  Note that lines where you will need to change the code are marked with a '#!'.\n",
    "\n",
    "Your first task is train the model:  "
   ]
  },
  {
   "cell_type": "code",
   "execution_count": 3,
   "metadata": {},
   "outputs": [
    {
     "name": "stdout",
     "output_type": "stream",
     "text": [
      "ham_prior:\n",
      "0.8701793721973095\n"
     ]
    }
   ],
   "source": [
    "# for loop to calculate len of 1 and 0's in training_labels\n",
    "ham_count =0\n",
    "spam_count=0\n",
    "for i in range(len(training_labels)):\n",
    "    if training_labels[i] == 1:\n",
    "        ham_count += 1\n",
    "    else:\n",
    "        spam_count += 1\n",
    "#print (ham_count, spam_count)\n",
    "\n",
    "#What is the prior P(Y=ham) ?\n",
    "ham_prior = ham_count/(spam_count+ham_count)    #!\n",
    "print (\"ham_prior:\")\n",
    "print (ham_prior)\n",
    "\n",
    "# What are the class probabilities P(X=word|Y=ham) for each word?\n",
    "ham_likelihood = {}\n",
    "for key,val in word_dictionary.items():\n",
    "    ham_likelihood[key]=val[1]/(val[0]+val[1])"
   ]
  },
  {
   "cell_type": "markdown",
   "metadata": {},
   "source": [
    "Your next task is to make predictions on a set of test examples which were held back from the training procedure (see *test_messages* variable).  For each of these messages, compute the ham and spam probabilities."
   ]
  },
  {
   "cell_type": "code",
   "execution_count": 10,
   "metadata": {},
   "outputs": [
    {
     "name": "stdout",
     "output_type": "stream",
     "text": [
      "[[1.26095525e-14 1.00000000e+00]\n",
      " [2.65423069e-07 9.99999735e-01]\n",
      " [9.99999996e-01 3.80127070e-09]\n",
      " [1.90853281e-13 1.00000000e+00]\n",
      " [4.51555027e-17 1.00000000e+00]]\n",
      "0.006662435493857435\n"
     ]
    },
    {
     "data": {
      "text/plain": [
       "Text(0,0.5,'$P(Spam)$')"
      ]
     },
     "execution_count": 10,
     "metadata": {},
     "output_type": "execute_result"
    },
    {
     "data": {
      "image/png": "[encoded data removed]",
      "text/plain": [
       "<Figure size 432x288 with 1 Axes>"
      ]
     },
     "metadata": {},
     "output_type": "display_data"
    }
   ],
   "source": [
    "# Where to hold the ham and spam posteriors\n",
    "posteriors = np.zeros((len(test_lines),2))\n",
    "\n",
    "# Loop over all the messages in the test set\n",
    "for i,m in enumerate(test_messages):\n",
    "    posterior_ham = 1.0 * ham_prior\n",
    "    posterior_spam = 1.0 *(1-ham_prior)\n",
    "    #! Don't forget to include the prior!\n",
    "    # Loop over all the words in each message\n",
    "    for w in m:\n",
    "        # #! What is the purpose of this try/except handler?\n",
    "        try:\n",
    "            posterior_ham *= ham_likelihood[w]\n",
    "            posterior_spam *= 1-ham_likelihood[w]\n",
    "        except KeyError:\n",
    "            pass\n",
    "    \n",
    "    # Notice the normalization factor (denominator) \n",
    "    # to turn these into proper probabilities!\n",
    "    posteriors[i,0] = posterior_spam/(posterior_spam + posterior_ham)\n",
    "    posteriors[i,1] = posterior_ham/(posterior_spam + posterior_ham)\n",
    "    \n",
    "print (posteriors[:5])\n",
    "print (np.percentile(posteriors[:,0],88))\n",
    "\n",
    "plt.scatter(range(len(posteriors[:,0])),posteriors[:,0],s=.7)\n",
    "\n",
    "plt.title(\"Probability of messages being spam\")\n",
    "plt.ylabel(\"$P(Spam)$\")\n",
    "\n",
    "#fig = figure()\n",
    "#ax = ax.subplot(1,1,1)\n",
    "#ax.scatter(range(len(posteriors[:,1])),posteriors[:,1], s=.7)"
   ]
  },
  {
   "cell_type": "markdown",
   "metadata": {},
   "source": [
    "Finally, make a ham/spam prediction based on your posterior probabilities.  Compare these to the labels contained in test_labels.  Report the accuracy of your classifier as percentage correct."
   ]
  },
  {
   "cell_type": "code",
   "execution_count": 12,
   "metadata": {},
   "outputs": [],
   "source": [
    "# best results with Decision boundary at ~90% likely ham (could optimize!)\n",
    "# Although I should probably be more conservative to make sure \n",
    "# I dont exclude ham, its ok if I include spam once in awhile...\n",
    "# P(h)>=.1 is probably better for actual use\n",
    "# We should weight the minimizing # of hams misidentified as spams heavily\n",
    "# and weight the minimizing # of spams misidentified as hams relatively lightly...\n",
    "\n",
    "ham_predict = np.array([])\n",
    "decision_boundary = .1\n",
    "\n",
    "for i in posteriors[:,1]:\n",
    "    if i>=decision_boundary:\n",
    "        ham_predict = np.append(ham_predict, 1)\n",
    "    else:\n",
    "        ham_predict = np.append(ham_predict, 0)\n",
    "        \n",
    "number_correct=0\n",
    "\n",
    "for i in np.arange(len(ham_predict)):\n",
    "    if ham_predict[i] == test_labels[i]:\n",
    "        number_correct += 1 "
   ]
  },
  {
   "cell_type": "code",
   "execution_count": 13,
   "metadata": {},
   "outputs": [
    {
     "name": "stdout",
     "output_type": "stream",
     "text": [
      "0.93627\n",
      "Percent correct:  93.6\n"
     ]
    }
   ],
   "source": [
    "print (str(np.round(number_correct/len(ham_predict),decimals=5)))\n",
    "print (\"Percent correct:  \" + str(np.round(100.*number_correct/len(ham_predict),decimals=1)))"
   ]
  },
  {
   "cell_type": "code",
   "execution_count": null,
   "metadata": {},
   "outputs": [],
   "source": []
  }
 ],
 "metadata": {
  "kernelspec": {
   "display_name": "Python 3",
   "language": "python",
   "name": "python3"
  },
  "language_info": {
   "codemirror_mode": {
    "name": "ipython",
    "version": 3
   },
   "file_extension": ".py",
   "mimetype": "text/x-python",
   "name": "python",
   "nbconvert_exporter": "python",
   "pygments_lexer": "ipython3",
   "version": "3.6.5"
  }
 },
 "nbformat": 4,
 "nbformat_minor": 2
}
