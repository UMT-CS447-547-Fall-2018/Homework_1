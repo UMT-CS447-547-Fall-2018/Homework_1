{
 "cells": [
  {
   "cell_type": "markdown",
   "metadata": {},
   "source": [
    "Machine Learning - Homework 1 (due Sep. 13)"
   ]
  },
  {
   "cell_type": "markdown",
   "metadata": {},
   "source": [
    "Problem 1: Legal reasoning (from Murphy 2.2).\n",
    "\n",
    "Suppose a crime has been committed. Blood is found at the scene for which there is no innocent explanation. It is of a type which is present in 1% of the population."
   ]
  },
  {
   "cell_type": "markdown",
   "metadata": {},
   "source": [
    "a. The prosecutor claims: “There is a 1% chance that the defendant would have the crime blood type if he\n",
    "were innocent. Thus there is a 99% chance that he guilty”. This is known as the prosecutor’s fallacy.\n",
    "What is wrong with this argument?\n"
   ]
  },
  {
   "cell_type": "markdown",
   "metadata": {},
   "source": [
    "This does not account for any other factors that could make the defendant guilty or not. If they were correct, then anyone who has the blood type would have a 99% chance of being guilty, which isn't true."
   ]
  },
  {
   "cell_type": "markdown",
   "metadata": {},
   "source": [
    "b. The defender claims: “The crime occurred in a city of 800,000 people. The blood type would be\n",
    "found in approximately 8000 people. The evidence has provided a probability of just 1 in 8000 that\n",
    "the defendant is guilty, and thus has no relevance.” This is known as the defender’s fallacy. What is\n",
    "wrong with this argument?\n"
   ]
  },
  {
   "cell_type": "markdown",
   "metadata": {},
   "source": [
    "The blood type decreases the amount of people that can be guilty, but it still doesn't account for any other factors that could cause the person to be guilty or not. "
   ]
  },
  {
   "cell_type": "markdown",
   "metadata": {},
   "source": [
    "c. Suppose that forensic analysis tells us that with 98% probability, the blood found at the scene belongs to the perpetrator.  Given the information presented in the above two questions, determine the posterior probability the the defendent is guilty, given that the defendent's blood type matches that found at the crime scene *and* that the defendent was one of only 5 people with access to the crime scene.  \n",
    "P"
   ]
  },
  {
   "cell_type": "markdown",
   "metadata": {},
   "source": [
    "Let G = Probablity the defendant is guilty and Let B = Probablity that the defendant has the matching blood type. \n",
    "Let C = Probabilty of one of the 5 people being guilty.\n",
    "P(C =1) = .2\n",
    "P(B = 1 ) = .01\n",
    "P(B | G) = .98\n",
    "We want to find P(G | B, C)\n",
    ".98 * .2  /.01 *(.2 * . 01) *.01 = .0392\n",
    "1- .0392 = .96\n",
    "96% chance the Defendant is guilty"
   ]
  },
  {
   "cell_type": "markdown",
   "metadata": {},
   "source": [
    "Problem 2: Naive Bayes."
   ]
  },
  {
   "cell_type": "markdown",
   "metadata": {},
   "source": [
    "One use of the naive Bayes classifier, which is still in practical use today, is as a spam filter.  Consider the corpus of text messages packaged with this homework, which are each labelled as either 'spam' or 'ham'.  In this case, naive Bayes utilizes a Bernoulli model that quantifies the probability of a given word given that the message is either spam or ham.  For example, investigating the text messages here, we find that the word *draw* shows up in spam 27 times, yet in ham only 5.  Thus, we have that\n",
    "$$ P(X=\\mathrm{draw}|Y=\\mathrm{ham}) = \\frac{5}{5+27}. $$\n",
    "\n",
    "While this is not particularly strong evidence on its own, we can create a powerful classifier by using the naive assumption in conjunction with all the words in a given message:\n",
    "$$ P(Y=\\mathrm{ham}|\\hat{X}) \\propto P(Y=\\mathrm{ham}) \\prod_{i=1}^n P(X=x_i|Y=\\mathrm{ham}), $$\n",
    "$$ P(Y=\\mathrm{spam}|\\hat{X}) \\propto P(Y=\\mathrm{spam}) \\prod_{i=1}^n P(X=x_i|Y=\\mathrm{spam}), $$\n",
    "where $x_i$ are the words in a given message. \n",
    "\n",
    "Your task is to write such a classifier.  I have taken the somewhat tedious step of parsing the data for you, yielding the variables *word_dictionary*, which contains the ham and spam counts for each word, as well as *training_labels*, which provides the spam/ham labels for each text message.  I have also parsed a set of test data: *test_messages* is a list, each entry containing another list of the words in the text message, as well as *test_labels* which contains the spam/ham label for each message."
   ]
  },
  {
   "cell_type": "code",
   "execution_count": 2,
   "metadata": {},
   "outputs": [],
   "source": [
    "import numpy as np\n",
    "\n",
    "# Maps from 'ham' or 'spam' strings to zero or one\n",
    "def mapper(s):\n",
    "    if s=='spam':\n",
    "        return 0\n",
    "    else:\n",
    "        return 1\n",
    "\n",
    "# Read in the text file\n",
    "f = open('SMSSpamCollection','r')\n",
    "lines = f.readlines()\n",
    "\n",
    "# Break out the test data\n",
    "test_lines = lines[:len(lines)//5]\n",
    "lines = lines[len(lines)//5:]\n",
    "\n",
    "# Instantiate the frequency dictionary and an array to\n",
    "# record whether the line is ham or spam\n",
    "word_dictionary = {}\n",
    "training_labels = np.zeros(len(lines),dtype=int)\n",
    "\n",
    "# Loop over all the training messages\n",
    "for i,l in enumerate(lines):\n",
    "    # Split into words\n",
    "    l = l.lower().split()\n",
    "    # Record the special first word which always ham or spam\n",
    "    if l[0]=='ham':\n",
    "        training_labels[i] = 1\n",
    "    # For each word in the message, record whether the message was ham or spam\n",
    "    for w in l[1:]:\n",
    "        # If we've never seen the word before, add a new dictionary entry\n",
    "        if w not in word_dictionary:\n",
    "            word_dictionary[w] = [1,1]\n",
    "        word_dictionary[w][mapper(l[0])] += 1\n",
    "        \n",
    "# Loop over the test messages\n",
    "test_labels = np.zeros(len(test_lines),dtype=int)\n",
    "test_messages = []\n",
    "for i,l in enumerate(test_lines):\n",
    "    l = l.lower().split()\n",
    "    if l[0]=='ham':\n",
    "        test_labels[i] = 1\n",
    "    test_messages.append(l)"
   ]
  },
  {
   "cell_type": "markdown",
   "metadata": {},
   "source": [
    "Below, I have provided code skeletons.  Your job is to make the code skeletons into an operational naive Bayes spam detector.  (you may discard these skeletons if you would prefer to code this from scratch).  Note that lines where you will need to change the code are marked with a '#!'.\n",
    "\n",
    "Your first task is train the model:  "
   ]
  },
  {
   "cell_type": "code",
   "execution_count": 3,
   "metadata": {},
   "outputs": [],
   "source": [
    "#What is the prior P(Y=ham) ?\n",
    "numHam = [x for x in training_labels if x ==1]\n",
    "ham_prior = (len(numHam) + 1.0 -1.0) / len(training_labels)  # I had to add\n",
    "#1.0 and subtract 1.0 so that It did floating division and not integer division\n",
    "\n",
    "# What are the class probabilities P(X=word|Y=ham) for each word?\n",
    "ham_likelihood = {}\n",
    "for key,val in word_dictionary.items():\n",
    "    ham_likelihood[key] = (val[1] / (len(word_dictionary) + 1.0-1.0)) #!"
   ]
  },
  {
   "cell_type": "markdown",
   "metadata": {},
   "source": [
    "Your next task is to make predictions on a set of test examples which were held back from the training procedure (see *test_messages* variable).  For each of these messages, compute the ham and spam probabilities."
   ]
  },
  {
   "cell_type": "code",
   "execution_count": 4,
   "metadata": {},
   "outputs": [],
   "source": [
    "# Where to hold the ham and spam posteriors\n",
    "posteriors = np.zeros((len(test_lines),2))\n",
    "\n",
    "# Loop over all the messages in the test set\n",
    "for i,m in enumerate(test_messages):\n",
    "    posterior_ham = ham_prior \n",
    "    posterior_spam = (1.0 - posterior_ham )\n",
    "    #print(posterior_spam)\n",
    "    #! Don't forget to include the prior!\n",
    "    # Loop over all the words in each message\n",
    "    for w in m:\n",
    "        # #! What is the purpose of this try/except handler?\n",
    "        # There are some words that were not in the test data set\n",
    "        # so they will error when you try to find the likelihood of them\n",
    "        # being spam.\n",
    "        try:\n",
    "            posterior_ham *= ham_likelihood[w] #!\n",
    "            posterior_spam *= (1.0 - ham_likelihood[w])#!\n",
    "        except KeyError:\n",
    "            #print(ham_likelihood[w])\n",
    "            pass\n",
    "    \n",
    "    # Notice the normalization factor (denominator) \n",
    "    # to turn these into proper probabilities!\n",
    "    #print(posterior_spam)\n",
    "    posteriors[i,0] = posterior_spam/(posterior_spam + posterior_ham)\n",
    "    posteriors[i,1] = posterior_ham/(posterior_spam + posterior_ham)\n",
    "    "
   ]
  },
  {
   "cell_type": "markdown",
   "metadata": {},
   "source": [
    "Finally, make a ham/spam prediction based on your posterior probabilities.  Compare these to the labels contained in test_labels.  Report the accuracy of your classifier as percentage correct."
   ]
  },
  {
   "cell_type": "code",
   "execution_count": 6,
   "metadata": {},
   "outputs": [
    {
     "name": "stdout",
     "output_type": "stream",
     "text": [
      "0.221552134582\n"
     ]
    }
   ],
   "source": [
    "#!\n",
    "total = 0\n",
    "correct = 0\n",
    "for i,m in enumerate(test_messages):\n",
    "    for w in m:\n",
    "        try:\n",
    "            if(posteriors[i,1] > posteriors[i,0]):\n",
    "                spamOrHam = 1\n",
    "            else:\n",
    "                spamOrHam =0\n",
    "            if(test_labels[i] ==1 and spamOrHam ==1 ):\n",
    "                correct +=1\n",
    "            elif(test_labels[i] == 0 and spamOrHam ==0):\n",
    "                correct +=1\n",
    "            total +=1\n",
    "        except KeyError:\n",
    "            pass\n",
    "accuracy = (correct + 1.0 -1.0) /total\n",
    "print(accuracy)"
   ]
  }
 ],
 "metadata": {
  "kernelspec": {
   "display_name": "Python 2",
   "language": "python",
   "name": "python2"
  },
  "language_info": {
   "codemirror_mode": {
    "name": "ipython",
    "version": 2
   },
   "file_extension": ".py",
   "mimetype": "text/x-python",
   "name": "python",
   "nbconvert_exporter": "python",
   "pygments_lexer": "ipython2",
   "version": "2.7.12"
  }
 },
 "nbformat": 4,
 "nbformat_minor": 2
}
